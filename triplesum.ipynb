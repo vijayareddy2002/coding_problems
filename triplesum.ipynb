{
  "nbformat": 4,
  "nbformat_minor": 0,
  "metadata": {
    "colab": {
      "name": "triplesum.ipynb",
      "provenance": [],
      "collapsed_sections": [],
      "include_colab_link": true
    },
    "kernelspec": {
      "name": "python3",
      "display_name": "Python 3"
    },
    "language_info": {
      "name": "python"
    }
  },
  "cells": [
    {
      "cell_type": "markdown",
      "metadata": {
        "id": "view-in-github",
        "colab_type": "text"
      },
      "source": [
        "<a href=\"https://colab.research.google.com/github/vijayareddy2002/coding_problems/blob/main/triplesum.ipynb\" target=\"_parent\"><img src=\"https://colab.research.google.com/assets/colab-badge.svg\" alt=\"Open In Colab\"/></a>"
      ]
    },
    {
      "cell_type": "code",
      "execution_count": null,
      "metadata": {
        "id": "OFBVtqaPBQaT"
      },
      "outputs": [],
      "source": [
        "def tripletsSums(a,s):\n",
        "  res=[]\n",
        "  for i in range(0,len(a)-2):\n",
        "    c1=a[i]\n",
        "    for j in range(i+1,len(a)-1):\n",
        "      c2=a[j]\n",
        "      for k in  range(j+1,len(a)):\n",
        "        f=c1+c2+a[k]\n",
        "        if(f==s):\n",
        "          print(\"numbers:\",c1,c2,a[k])\n",
        "          res.append([c1,c2,a[k]])\n",
        "        else:\n",
        "          f=f-a[k]\n",
        "  return res\n"
      ]
    },
    {
      "cell_type": "code",
      "source": [
        "print(tripletsSums([1, 4, 45, 6, 10, 8],11))"
      ],
      "metadata": {
        "colab": {
          "base_uri": "https://localhost:8080/"
        },
        "id": "fKHh-iI5CQfq",
        "outputId": "66b8a32b-0d4c-4e8b-a794-3450722bd9b6"
      },
      "execution_count": null,
      "outputs": [
        {
          "output_type": "stream",
          "name": "stdout",
          "text": [
            "numbers: 1 4 6\n",
            "[[1, 4, 6]]\n"
          ]
        }
      ]
    },
    {
      "cell_type": "code",
      "source": [
        "#try other solution for above"
      ],
      "metadata": {
        "id": "3wtAWlNwN3jJ"
      },
      "execution_count": null,
      "outputs": []
    },
    {
      "cell_type": "code",
      "source": [],
      "metadata": {
        "id": "QA0uHBU3N-ph"
      },
      "execution_count": null,
      "outputs": []
    }
  ]
}