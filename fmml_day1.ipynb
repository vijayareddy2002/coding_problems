{
  "nbformat": 4,
  "nbformat_minor": 0,
  "metadata": {
    "colab": {
      "name": "fmml_day1.ipynb",
      "provenance": [],
      "authorship_tag": "ABX9TyOlhU/+TC+UBoKz4GBMKtgH",
      "include_colab_link": true
    },
    "kernelspec": {
      "name": "python3",
      "display_name": "Python 3"
    },
    "language_info": {
      "name": "python"
    }
  },
  "cells": [
    {
      "cell_type": "markdown",
      "metadata": {
        "id": "view-in-github",
        "colab_type": "text"
      },
      "source": [
        "<a href=\"https://colab.research.google.com/github/vijayareddy2002/coding_problems/blob/main/fmml_day1.ipynb\" target=\"_parent\"><img src=\"https://colab.research.google.com/assets/colab-badge.svg\" alt=\"Open In Colab\"/></a>"
      ]
    },
    {
      "cell_type": "code",
      "execution_count": 1,
      "metadata": {
        "colab": {
          "base_uri": "https://localhost:8080/"
        },
        "id": "w2PIxKKxX6Zf",
        "outputId": "62f91584-80f3-4f82-91c2-42b69e7a802b"
      },
      "outputs": [
        {
          "output_type": "execute_result",
          "data": {
            "text/plain": [
              "9"
            ]
          },
          "metadata": {},
          "execution_count": 1
        }
      ],
      "source": [
        "(-3) ** 2"
      ]
    },
    {
      "cell_type": "code",
      "source": [
        "(2 < 3) == (4 < 5)"
      ],
      "metadata": {
        "colab": {
          "base_uri": "https://localhost:8080/"
        },
        "id": "23KKedpOeDwR",
        "outputId": "879ac197-e6a0-4069-ad3c-fdc3a692771e"
      },
      "execution_count": 2,
      "outputs": [
        {
          "output_type": "execute_result",
          "data": {
            "text/plain": [
              "True"
            ]
          },
          "metadata": {},
          "execution_count": 2
        }
      ]
    },
    {
      "cell_type": "code",
      "source": [
        "ram_age = 20\n",
        "hari_age = 30\n",
        "akbar_age = 40"
      ],
      "metadata": {
        "id": "ZmHK2YSIeH1O"
      },
      "execution_count": 3,
      "outputs": []
    },
    {
      "cell_type": "code",
      "source": [
        "(ram_age < hari_age) and (hari_age > akbar_age)"
      ],
      "metadata": {
        "colab": {
          "base_uri": "https://localhost:8080/"
        },
        "id": "klam-CI-eOZD",
        "outputId": "7e75e92a-646e-49b3-e040-c1dcac16308b"
      },
      "execution_count": 4,
      "outputs": [
        {
          "output_type": "execute_result",
          "data": {
            "text/plain": [
              "False"
            ]
          },
          "metadata": {},
          "execution_count": 4
        }
      ]
    },
    {
      "cell_type": "code",
      "source": [
        "Car_mileage = 15\n",
        "Price_of_fuel = 100\n",
        "Cash_in_hand = 65"
      ],
      "metadata": {
        "id": "W7zQoVkIeVRI"
      },
      "execution_count": 5,
      "outputs": []
    },
    {
      "cell_type": "code",
      "source": [
        "def mileage_calculator(mileage, fuel, cash):\n",
        "  return (mileage/fuel*cash)"
      ],
      "metadata": {
        "id": "iTCAFkGuec1e"
      },
      "execution_count": 6,
      "outputs": []
    },
    {
      "cell_type": "code",
      "source": [
        "results = mileage_calculator (10, 50, 460)"
      ],
      "metadata": {
        "id": "59PfoOq-eg3V"
      },
      "execution_count": 7,
      "outputs": []
    },
    {
      "cell_type": "code",
      "source": [
        ""
      ],
      "metadata": {
        "id": "yUpzUDEXelA8"
      },
      "execution_count": null,
      "outputs": []
    }
  ]
}